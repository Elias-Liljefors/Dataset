{
  "nbformat": 4,
  "nbformat_minor": 0,
  "metadata": {
    "colab": {
      "provenance": [],
      "collapsed_sections": [
        "ARrETQp6F8br",
        "ikhc4yHSGhVA",
        "Huc2hZ2BGhxB"
      ]
    },
    "kernelspec": {
      "name": "python3",
      "display_name": "Python 3"
    },
    "language_info": {
      "name": "python"
    }
  },
  "cells": [
    {
      "cell_type": "markdown",
      "source": [
        "Importing Pandas and numpy as well as declaring the variable url to point to the dataset"
      ],
      "metadata": {
        "id": "DcHVbRlgKta0"
      }
    },
    {
      "cell_type": "code",
      "execution_count": null,
      "metadata": {
        "id": "plhn5Dzpeulk"
      },
      "outputs": [],
      "source": [
        "import pandas as pd\n",
        "import numpy as np\n",
        "\n",
        "url = 'https://raw.githubusercontent.com/Elias-Liljefors/Dataset/refs/heads/main/video_game_reviews.csv'\n",
        "\n",
        "df = pd.read_csv(url)"
      ]
    },
    {
      "cell_type": "markdown",
      "source": [
        "# Data Preprocessing"
      ],
      "metadata": {
        "id": "ARrETQp6F8br"
      }
    },
    {
      "cell_type": "markdown",
      "source": [
        "Viewing a random sample"
      ],
      "metadata": {
        "id": "gzw5rDHoLR2I"
      }
    },
    {
      "cell_type": "code",
      "source": [
        "df = pd.read_csv(url)\n",
        "\n",
        "# View a random sample of 5 rows\n",
        "random_sample = df.sample(n=5)\n",
        "\n",
        "# Display the random sample\n",
        "print(\"Here is a random sample of 5 rows from our dataset:\")\n",
        "print()\n",
        "print(random_sample)"
      ],
      "metadata": {
        "id": "q70Aw8_XGINg",
        "colab": {
          "base_uri": "https://localhost:8080/"
        },
        "outputId": "27e5753b-536f-4bb6-b2e4-925096256a73"
      },
      "execution_count": null,
      "outputs": [
        {
          "output_type": "stream",
          "name": "stdout",
          "text": [
            "Here is a random sample of 5 rows from our dataset:\n",
            "\n",
            "                                    Game Title  User Rating  \\\n",
            "34954                                 Fortnite         21.7   \n",
            "24013                                 Portal 2         22.7   \n",
            "14744  The Legend of Zelda: Breath of the Wild         25.8   \n",
            "6630                          Street Fighter V         24.9   \n",
            "25950                                    Hades         17.6   \n",
            "\n",
            "      Age Group Targeted  Price Platform Requires Special Device  \\\n",
            "34954              Teens  39.24   Mobile                     Yes   \n",
            "24013             Adults  36.96     Xbox                      No   \n",
            "14744           All Ages  25.00     Xbox                     Yes   \n",
            "6630              Adults  23.68       PC                     Yes   \n",
            "25950              Teens  26.29   Mobile                      No   \n",
            "\n",
            "            Developer             Publisher  Release Year      Genre  \\\n",
            "34954      Innersloth            Epic Games          2016     Sports   \n",
            "24013  CD Projekt Red  Take-Two Interactive          2017        RPG   \n",
            "14744  Rockstar Games       Electronic Arts          2018   Fighting   \n",
            "6630            Valve  Take-Two Interactive          2014   Strategy   \n",
            "25950  Rockstar Games              Nintendo          2016  Adventure   \n",
            "\n",
            "      Multiplayer  Game Length (Hours) Graphics Quality Soundtrack Quality  \\\n",
            "34954         Yes                  8.7              Low          Excellent   \n",
            "24013         Yes                  8.7           Medium               Poor   \n",
            "14744         Yes                 46.4           Medium               Good   \n",
            "6630          Yes                 45.4             High          Excellent   \n",
            "25950         Yes                 17.2           Medium               Good   \n",
            "\n",
            "      Story Quality                               User Review Text Game Mode  \\\n",
            "34954       Average                 Solid game, but too many bugs.   Offline   \n",
            "24013          Poor                 Solid game, but too many bugs.    Online   \n",
            "14744     Excellent       Great game, but the gameplay is amazing.    Online   \n",
            "6630        Average       Solid game, but the gameplay is amazing.    Online   \n",
            "25950          Good  Solid game, but the graphics could be better.    Online   \n",
            "\n",
            "       Min Number of Players  \n",
            "34954                     10  \n",
            "24013                      6  \n",
            "14744                      4  \n",
            "6630                       4  \n",
            "25950                      8  \n"
          ]
        }
      ]
    },
    {
      "cell_type": "markdown",
      "source": [
        "Rows and columns"
      ],
      "metadata": {
        "id": "xhgSip2OPJ75"
      }
    },
    {
      "cell_type": "code",
      "source": [
        "chipo = pd.read_csv(url)\n",
        "print(f\"The dataset has {chipo.shape[0]} rows and {chipo.shape[1]} columns.\")"
      ],
      "metadata": {
        "colab": {
          "base_uri": "https://localhost:8080/"
        },
        "id": "zyVeSnDq_cLQ",
        "outputId": "8f75ad38-d9ef-4f02-99b8-2722f46eb9e1"
      },
      "execution_count": null,
      "outputs": [
        {
          "output_type": "stream",
          "name": "stdout",
          "text": [
            "The dataset has 47774 rows and 18 columns.\n"
          ]
        }
      ]
    },
    {
      "cell_type": "markdown",
      "source": [
        "# Data Objects & Attribute Types"
      ],
      "metadata": {
        "id": "G6a09iq4FqDS"
      }
    },
    {
      "cell_type": "markdown",
      "source": [
        "Nominal Attributes"
      ],
      "metadata": {
        "id": "hP7C6wx2M4Fs"
      }
    },
    {
      "cell_type": "code",
      "source": [],
      "metadata": {
        "id": "2vLGNLVkPrQc"
      },
      "execution_count": null,
      "outputs": []
    },
    {
      "cell_type": "markdown",
      "source": [
        "Binary Attributes"
      ],
      "metadata": {
        "id": "Ly2H12BuM5Jl"
      }
    },
    {
      "cell_type": "code",
      "source": [],
      "metadata": {
        "id": "0yZ9MTxKPrud"
      },
      "execution_count": null,
      "outputs": []
    },
    {
      "cell_type": "markdown",
      "source": [
        "Ordinal Attributes"
      ],
      "metadata": {
        "id": "wke2pmJbM8P5"
      }
    },
    {
      "cell_type": "code",
      "source": [],
      "metadata": {
        "id": "OYdLJkdHPs9E"
      },
      "execution_count": null,
      "outputs": []
    },
    {
      "cell_type": "markdown",
      "source": [
        "# Basic Statistics using NumPy"
      ],
      "metadata": {
        "id": "bT7JOCDcFzgH"
      }
    },
    {
      "cell_type": "markdown",
      "source": [
        "Mean and Median"
      ],
      "metadata": {
        "id": "yHhjXepBPynp"
      }
    },
    {
      "cell_type": "code",
      "source": [],
      "metadata": {
        "id": "jKzYfzK5PQTZ"
      },
      "execution_count": null,
      "outputs": []
    },
    {
      "cell_type": "markdown",
      "source": [
        "Standard Deviation and Variance"
      ],
      "metadata": {
        "id": "Uk1oZpY_P05m"
      }
    },
    {
      "cell_type": "code",
      "source": [],
      "metadata": {
        "id": "-8M2aRMvP3RK"
      },
      "execution_count": null,
      "outputs": []
    },
    {
      "cell_type": "markdown",
      "source": [
        "Minimum and Maximum"
      ],
      "metadata": {
        "id": "VRHIncopP6U7"
      }
    },
    {
      "cell_type": "code",
      "source": [],
      "metadata": {
        "id": "IT_KPklFP8Cf"
      },
      "execution_count": null,
      "outputs": []
    },
    {
      "cell_type": "markdown",
      "source": [
        "Sum and Product"
      ],
      "metadata": {
        "id": "xSc_fWRFQABi"
      }
    },
    {
      "cell_type": "code",
      "source": [],
      "metadata": {
        "id": "bwsnGvpeQAzX"
      },
      "execution_count": null,
      "outputs": []
    },
    {
      "cell_type": "markdown",
      "source": [
        "#  Visualization using Matplotlib"
      ],
      "metadata": {
        "id": "ikhc4yHSGhVA"
      }
    },
    {
      "cell_type": "code",
      "source": [],
      "metadata": {
        "id": "TAaY7YklGsYE"
      },
      "execution_count": null,
      "outputs": []
    },
    {
      "cell_type": "markdown",
      "source": [
        "#  muut temp"
      ],
      "metadata": {
        "id": "Huc2hZ2BGhxB"
      }
    },
    {
      "cell_type": "code",
      "source": [],
      "metadata": {
        "id": "_nR2udEQGc1v"
      },
      "execution_count": null,
      "outputs": []
    },
    {
      "cell_type": "code",
      "source": [
        "df = pd.read_csv(url)\n",
        "\n",
        "# Define the bin edges\n",
        "bins = [0, 20, 40, 60, 80, 100, float('inf')]\n",
        "\n",
        "# Define the bin labels\n",
        "labels = ['0-20', '20-40', '40-60', '60-80', '80-100', '100+']\n",
        "\n",
        "# Create a new column 'Price_bin' with the binned data\n",
        "df['Price_bin'] = pd.cut(df['Price'], bins=bins, labels=labels, right=False)\n",
        "\n",
        "# Display the DataFrame with the new 'Price_bin' column\n",
        "print(df[['Game Title', 'Price', 'Price_bin']])"
      ],
      "metadata": {
        "colab": {
          "base_uri": "https://localhost:8080/"
        },
        "id": "tRYnaBY1jKT8",
        "outputId": "51868a24-a6d3-4e6e-b0fb-1362e8c1c01e"
      },
      "execution_count": null,
      "outputs": [
        {
          "output_type": "stream",
          "name": "stdout",
          "text": [
            "                                    Game Title  Price Price_bin\n",
            "0                           Grand Theft Auto V  41.41     40-60\n",
            "1                                   The Sims 4  57.56     40-60\n",
            "2                                    Minecraft  44.93     40-60\n",
            "3                            Bioshock Infinite  48.29     40-60\n",
            "4                              Half-Life: Alyx  55.49     40-60\n",
            "...                                        ...    ...       ...\n",
            "47769                                Minecraft  49.11     40-60\n",
            "47770  The Legend of Zelda: Breath of the Wild  31.69     20-40\n",
            "47771            Animal Crossing: New Horizons  44.90     40-60\n",
            "47772  The Legend of Zelda: Breath of the Wild  29.99     20-40\n",
            "47773  The Legend of Zelda: Breath of the Wild  22.20     20-40\n",
            "\n",
            "[47774 rows x 3 columns]\n"
          ]
        }
      ]
    },
    {
      "cell_type": "code",
      "source": [
        "# Load the dataset\n",
        "df = pd.read_csv(url)\n",
        "# Remove duplicate rows, keeping the first occurrence\n",
        "df_cleaned = df.drop_duplicates(subset=['Game Title'], keep='first')\n",
        "\n",
        "# Check the shape of the cleaned DataFrame\n",
        "print(f\"Number of rows after removing duplicates: {df_cleaned.shape[0]}\")\n",
        "\n",
        "# Count duplicates in the 'Game Title' column\n",
        "duplicate_counts = df['Game Title'].value_counts()\n",
        "\n",
        "# Filter for titles with more than one occurrence (duplicates)\n",
        "duplicate_titles = duplicate_counts[duplicate_counts > 1]\n",
        "\n",
        "# Print the number of duplicate game titles\n",
        "print(f\"Number of duplicate game titles: {len(duplicate_titles)}\")\n",
        "\n",
        "# Print the duplicate game titles and their counts (optional)\n",
        "print(\"\\nDuplicate Game Titles and Counts:\")\n",
        "duplicate_titles"
      ],
      "metadata": {
        "colab": {
          "base_uri": "https://localhost:8080/",
          "height": 1000
        },
        "id": "YkipYh9R1U6l",
        "outputId": "3b43173b-9153-409f-93d2-caa1643eb93b"
      },
      "execution_count": null,
      "outputs": [
        {
          "output_type": "stream",
          "name": "stdout",
          "text": [
            "Number of rows after removing duplicates: 40\n",
            "Number of duplicate game titles: 40\n",
            "\n",
            "Duplicate Game Titles and Counts:\n"
          ]
        },
        {
          "output_type": "execute_result",
          "data": {
            "text/plain": [
              "Game Title\n",
              "Pokémon Scarlet & Violet                   1274\n",
              "Minecraft                                  1265\n",
              "FIFA 24                                    1247\n",
              "Tomb Raider (2013)                         1245\n",
              "Street Fighter V                           1245\n",
              "Super Smash Bros. Ultimate                 1235\n",
              "Fall Guys                                  1232\n",
              "Hitman 3                                   1229\n",
              "Tetris                                     1224\n",
              "1000-Piece Puzzle                          1222\n",
              "Kingdom Hearts III                         1220\n",
              "Half-Life: Alyx                            1219\n",
              "Spelunky 2                                 1219\n",
              "The Witcher 3: Wild Hunt                   1216\n",
              "Stardew Valley                             1209\n",
              "Tekken 7                                   1209\n",
              "Call of Duty: Modern Warfare 2             1208\n",
              "Animal Crossing: New Horizons              1208\n",
              "Pillars of Eternity II: Deadfire           1207\n",
              "Overwatch 2                                1203\n",
              "Portal 2                                   1202\n",
              "Grand Theft Auto V                         1199\n",
              "Counter-Strike: Global Offensive           1197\n",
              "Mario Kart 8 Deluxe                        1192\n",
              "Sid Meier’s Civilization VI                1179\n",
              "Fortnite                                   1176\n",
              "Super Mario Odyssey                        1173\n",
              "The Elder Scrolls V: Skyrim                1168\n",
              "The Legend of Zelda: Breath of the Wild    1166\n",
              "League of Legends                          1162\n",
              "The Sims 4                                 1160\n",
              "Halo Infinite                              1156\n",
              "Hades                                      1152\n",
              "Red Dead Redemption 2                      1146\n",
              "Just Dance 2024                            1145\n",
              "Ghost of Tsushima                          1143\n",
              "Bioshock Infinite                          1141\n",
              "Cuphead                                    1136\n",
              "Among Us                                   1127\n",
              "Rocket League                              1118\n",
              "Name: count, dtype: int64"
            ],
            "text/html": [
              "<div>\n",
              "<style scoped>\n",
              "    .dataframe tbody tr th:only-of-type {\n",
              "        vertical-align: middle;\n",
              "    }\n",
              "\n",
              "    .dataframe tbody tr th {\n",
              "        vertical-align: top;\n",
              "    }\n",
              "\n",
              "    .dataframe thead th {\n",
              "        text-align: right;\n",
              "    }\n",
              "</style>\n",
              "<table border=\"1\" class=\"dataframe\">\n",
              "  <thead>\n",
              "    <tr style=\"text-align: right;\">\n",
              "      <th></th>\n",
              "      <th>count</th>\n",
              "    </tr>\n",
              "    <tr>\n",
              "      <th>Game Title</th>\n",
              "      <th></th>\n",
              "    </tr>\n",
              "  </thead>\n",
              "  <tbody>\n",
              "    <tr>\n",
              "      <th>Pokémon Scarlet &amp; Violet</th>\n",
              "      <td>1274</td>\n",
              "    </tr>\n",
              "    <tr>\n",
              "      <th>Minecraft</th>\n",
              "      <td>1265</td>\n",
              "    </tr>\n",
              "    <tr>\n",
              "      <th>FIFA 24</th>\n",
              "      <td>1247</td>\n",
              "    </tr>\n",
              "    <tr>\n",
              "      <th>Tomb Raider (2013)</th>\n",
              "      <td>1245</td>\n",
              "    </tr>\n",
              "    <tr>\n",
              "      <th>Street Fighter V</th>\n",
              "      <td>1245</td>\n",
              "    </tr>\n",
              "    <tr>\n",
              "      <th>Super Smash Bros. Ultimate</th>\n",
              "      <td>1235</td>\n",
              "    </tr>\n",
              "    <tr>\n",
              "      <th>Fall Guys</th>\n",
              "      <td>1232</td>\n",
              "    </tr>\n",
              "    <tr>\n",
              "      <th>Hitman 3</th>\n",
              "      <td>1229</td>\n",
              "    </tr>\n",
              "    <tr>\n",
              "      <th>Tetris</th>\n",
              "      <td>1224</td>\n",
              "    </tr>\n",
              "    <tr>\n",
              "      <th>1000-Piece Puzzle</th>\n",
              "      <td>1222</td>\n",
              "    </tr>\n",
              "    <tr>\n",
              "      <th>Kingdom Hearts III</th>\n",
              "      <td>1220</td>\n",
              "    </tr>\n",
              "    <tr>\n",
              "      <th>Half-Life: Alyx</th>\n",
              "      <td>1219</td>\n",
              "    </tr>\n",
              "    <tr>\n",
              "      <th>Spelunky 2</th>\n",
              "      <td>1219</td>\n",
              "    </tr>\n",
              "    <tr>\n",
              "      <th>The Witcher 3: Wild Hunt</th>\n",
              "      <td>1216</td>\n",
              "    </tr>\n",
              "    <tr>\n",
              "      <th>Stardew Valley</th>\n",
              "      <td>1209</td>\n",
              "    </tr>\n",
              "    <tr>\n",
              "      <th>Tekken 7</th>\n",
              "      <td>1209</td>\n",
              "    </tr>\n",
              "    <tr>\n",
              "      <th>Call of Duty: Modern Warfare 2</th>\n",
              "      <td>1208</td>\n",
              "    </tr>\n",
              "    <tr>\n",
              "      <th>Animal Crossing: New Horizons</th>\n",
              "      <td>1208</td>\n",
              "    </tr>\n",
              "    <tr>\n",
              "      <th>Pillars of Eternity II: Deadfire</th>\n",
              "      <td>1207</td>\n",
              "    </tr>\n",
              "    <tr>\n",
              "      <th>Overwatch 2</th>\n",
              "      <td>1203</td>\n",
              "    </tr>\n",
              "    <tr>\n",
              "      <th>Portal 2</th>\n",
              "      <td>1202</td>\n",
              "    </tr>\n",
              "    <tr>\n",
              "      <th>Grand Theft Auto V</th>\n",
              "      <td>1199</td>\n",
              "    </tr>\n",
              "    <tr>\n",
              "      <th>Counter-Strike: Global Offensive</th>\n",
              "      <td>1197</td>\n",
              "    </tr>\n",
              "    <tr>\n",
              "      <th>Mario Kart 8 Deluxe</th>\n",
              "      <td>1192</td>\n",
              "    </tr>\n",
              "    <tr>\n",
              "      <th>Sid Meier’s Civilization VI</th>\n",
              "      <td>1179</td>\n",
              "    </tr>\n",
              "    <tr>\n",
              "      <th>Fortnite</th>\n",
              "      <td>1176</td>\n",
              "    </tr>\n",
              "    <tr>\n",
              "      <th>Super Mario Odyssey</th>\n",
              "      <td>1173</td>\n",
              "    </tr>\n",
              "    <tr>\n",
              "      <th>The Elder Scrolls V: Skyrim</th>\n",
              "      <td>1168</td>\n",
              "    </tr>\n",
              "    <tr>\n",
              "      <th>The Legend of Zelda: Breath of the Wild</th>\n",
              "      <td>1166</td>\n",
              "    </tr>\n",
              "    <tr>\n",
              "      <th>League of Legends</th>\n",
              "      <td>1162</td>\n",
              "    </tr>\n",
              "    <tr>\n",
              "      <th>The Sims 4</th>\n",
              "      <td>1160</td>\n",
              "    </tr>\n",
              "    <tr>\n",
              "      <th>Halo Infinite</th>\n",
              "      <td>1156</td>\n",
              "    </tr>\n",
              "    <tr>\n",
              "      <th>Hades</th>\n",
              "      <td>1152</td>\n",
              "    </tr>\n",
              "    <tr>\n",
              "      <th>Red Dead Redemption 2</th>\n",
              "      <td>1146</td>\n",
              "    </tr>\n",
              "    <tr>\n",
              "      <th>Just Dance 2024</th>\n",
              "      <td>1145</td>\n",
              "    </tr>\n",
              "    <tr>\n",
              "      <th>Ghost of Tsushima</th>\n",
              "      <td>1143</td>\n",
              "    </tr>\n",
              "    <tr>\n",
              "      <th>Bioshock Infinite</th>\n",
              "      <td>1141</td>\n",
              "    </tr>\n",
              "    <tr>\n",
              "      <th>Cuphead</th>\n",
              "      <td>1136</td>\n",
              "    </tr>\n",
              "    <tr>\n",
              "      <th>Among Us</th>\n",
              "      <td>1127</td>\n",
              "    </tr>\n",
              "    <tr>\n",
              "      <th>Rocket League</th>\n",
              "      <td>1118</td>\n",
              "    </tr>\n",
              "  </tbody>\n",
              "</table>\n",
              "</div><br><label><b>dtype:</b> int64</label>"
            ]
          },
          "metadata": {},
          "execution_count": 28
        }
      ]
    },
    {
      "cell_type": "code",
      "source": [
        "df = pd.read_csv(url)\n",
        "\n",
        "# Remove duplicate rows, keeping the first occurrence\n",
        "df_cleaned = df.drop_duplicates(subset=['Game Title'], keep='first')\n",
        "\n",
        "# Check the shape of the cleaned DataFrame\n",
        "print(f\"Number of rows after removing duplicates: {df_cleaned.shape[0]}\")\n",
        "print(df_cleaned)"
      ],
      "metadata": {
        "id": "Yjn8ziWW5hrM",
        "colab": {
          "base_uri": "https://localhost:8080/"
        },
        "outputId": "0c11b9e8-bfc1-40c2-faf1-b1118149270a"
      },
      "execution_count": null,
      "outputs": [
        {
          "output_type": "stream",
          "name": "stdout",
          "text": [
            "Number of rows after removing duplicates: 40\n",
            "                                  Game Title  User Rating Age Group Targeted  \\\n",
            "0                         Grand Theft Auto V         36.4           All Ages   \n",
            "1                                 The Sims 4         38.3             Adults   \n",
            "2                                  Minecraft         26.8              Teens   \n",
            "3                          Bioshock Infinite         38.4           All Ages   \n",
            "4                            Half-Life: Alyx         30.1             Adults   \n",
            "6                Sid Meier’s Civilization VI         33.1             Adults   \n",
            "7                            Just Dance 2024         32.3              Teens   \n",
            "9                          1000-Piece Puzzle         23.9               Kids   \n",
            "10                                Spelunky 2         29.3             Adults   \n",
            "11                          Street Fighter V         37.4           All Ages   \n",
            "13                                 Fall Guys         43.0              Teens   \n",
            "15                             Rocket League         28.6               Kids   \n",
            "16               The Elder Scrolls V: Skyrim         32.4           All Ages   \n",
            "17                                  Among Us         18.7              Teens   \n",
            "19                            Stardew Valley         36.5               Kids   \n",
            "21            Call of Duty: Modern Warfare 2         26.3           All Ages   \n",
            "22   The Legend of Zelda: Breath of the Wild         31.4             Adults   \n",
            "23                                  Tekken 7         26.8              Teens   \n",
            "24          Pillars of Eternity II: Deadfire         26.2           All Ages   \n",
            "25             Animal Crossing: New Horizons         27.7              Teens   \n",
            "26                                     Hades         35.8               Kids   \n",
            "27                       Mario Kart 8 Deluxe         37.3           All Ages   \n",
            "29                               Overwatch 2         31.8           All Ages   \n",
            "32                                  Fortnite         32.7               Kids   \n",
            "33                  Pokémon Scarlet & Violet         29.5           All Ages   \n",
            "39                                  Hitman 3         18.9              Teens   \n",
            "41                        Tomb Raider (2013)         34.1             Adults   \n",
            "46                             Halo Infinite         30.6               Kids   \n",
            "53                Super Smash Bros. Ultimate         44.3           All Ages   \n",
            "56                        Kingdom Hearts III         30.2           All Ages   \n",
            "57                         League of Legends         19.1              Teens   \n",
            "59                  The Witcher 3: Wild Hunt         30.8              Teens   \n",
            "65                                   FIFA 24         29.6             Adults   \n",
            "76                         Ghost of Tsushima         33.9               Kids   \n",
            "81                                   Cuphead         24.6               Kids   \n",
            "86                     Red Dead Redemption 2         25.1              Teens   \n",
            "88                                  Portal 2         35.7             Adults   \n",
            "105                                   Tetris         18.5           All Ages   \n",
            "114         Counter-Strike: Global Offensive         22.6               Kids   \n",
            "116                      Super Mario Odyssey         34.7           All Ages   \n",
            "\n",
            "     Price         Platform Requires Special Device       Developer  \\\n",
            "0    41.41               PC                      No      Game Freak   \n",
            "1    57.56               PC                      No        Nintendo   \n",
            "2    44.93               PC                     Yes          Bungie   \n",
            "3    48.29           Mobile                     Yes      Game Freak   \n",
            "4    55.49      PlayStation                     Yes      Game Freak   \n",
            "6    46.44           Mobile                      No      Game Freak   \n",
            "7    36.92  Nintendo Switch                      No          Capcom   \n",
            "9    20.09               PC                      No  CD Projekt Red   \n",
            "10   27.76           Mobile                      No          Capcom   \n",
            "11   58.01      PlayStation                      No      Game Freak   \n",
            "13   50.53  Nintendo Switch                     Yes          Capcom   \n",
            "15   52.91      PlayStation                      No      Epic Games   \n",
            "16   32.80               PC                      No      Epic Games   \n",
            "17   20.81           Mobile                      No      Epic Games   \n",
            "19   48.29           Mobile                     Yes          Bungie   \n",
            "21   32.30               PC                      No      Game Freak   \n",
            "22   29.05      PlayStation                      No        Nintendo   \n",
            "23   38.03               PC                     Yes      Game Freak   \n",
            "24   23.59             Xbox                     Yes          Capcom   \n",
            "25   49.11             Xbox                     Yes          Bungie   \n",
            "26   39.41  Nintendo Switch                      No      Game Freak   \n",
            "27   42.53               PC                      No  Rockstar Games   \n",
            "29   54.21      PlayStation                     Yes          Capcom   \n",
            "32   32.73  Nintendo Switch                     Yes          Capcom   \n",
            "33   53.12               PC                      No      Epic Games   \n",
            "39   24.99           Mobile                      No          Bungie   \n",
            "41   47.59               PC                      No      Epic Games   \n",
            "46   34.17             Xbox                      No        Nintendo   \n",
            "53   59.32      PlayStation                      No        Nintendo   \n",
            "56   51.02           Mobile                     Yes      Game Freak   \n",
            "57   23.08  Nintendo Switch                      No      Game Freak   \n",
            "59   40.29             Xbox                     Yes  CD Projekt Red   \n",
            "65   28.04               PC                      No      Epic Games   \n",
            "76   40.54      PlayStation                      No  Rockstar Games   \n",
            "81   32.69      PlayStation                      No      Innersloth   \n",
            "86   30.83  Nintendo Switch                      No  CD Projekt Red   \n",
            "88   38.12           Mobile                      No          Bungie   \n",
            "105  33.68  Nintendo Switch                      No          Capcom   \n",
            "114  25.89           Mobile                     Yes      Game Freak   \n",
            "116  46.59               PC                      No      Game Freak   \n",
            "\n",
            "                Publisher  Release Year       Genre Multiplayer  \\\n",
            "0              Innersloth          2015   Adventure          No   \n",
            "1         Electronic Arts          2015     Shooter         Yes   \n",
            "2                  Capcom          2012   Adventure         Yes   \n",
            "3                Nintendo          2015      Sports          No   \n",
            "4              Epic Games          2022         RPG         Yes   \n",
            "6              Innersloth          2020  Simulation          No   \n",
            "7    Take-Two Interactive          2012    Strategy          No   \n",
            "9              Innersloth          2013      Sports         Yes   \n",
            "10                 Capcom          2017   Adventure          No   \n",
            "11             Epic Games          2010    Fighting         Yes   \n",
            "13             Epic Games          2011    Strategy         Yes   \n",
            "15                  Valve          2012       Party          No   \n",
            "16                  Valve          2014  Simulation          No   \n",
            "17             Activision          2015         RPG         Yes   \n",
            "19   Take-Two Interactive          2016     Shooter          No   \n",
            "21             Innersloth          2023    Strategy         Yes   \n",
            "22             Innersloth          2013   Adventure          No   \n",
            "23                 Capcom          2022  Simulation         Yes   \n",
            "24        Electronic Arts          2016      Puzzle         Yes   \n",
            "25        Electronic Arts          2012   Adventure         Yes   \n",
            "26                 Capcom          2018      Sports         Yes   \n",
            "27             Epic Games          2016  Simulation          No   \n",
            "29                  Valve          2014     Shooter          No   \n",
            "32             Epic Games          2021       Party          No   \n",
            "33   Take-Two Interactive          2012      Puzzle          No   \n",
            "39            Square Enix          2015     Shooter         Yes   \n",
            "41             Innersloth          2017     Shooter         Yes   \n",
            "46             Innersloth          2022         RPG          No   \n",
            "53            Square Enix          2010       Party          No   \n",
            "56                  Valve          2018     Shooter         Yes   \n",
            "57                  Valve          2010       Party          No   \n",
            "59               Nintendo          2021    Fighting         Yes   \n",
            "65            Square Enix          2014      Sports         Yes   \n",
            "76                 Capcom          2019         RPG         Yes   \n",
            "81        Electronic Arts          2023     Shooter          No   \n",
            "86        Electronic Arts          2020  Simulation         Yes   \n",
            "88                 Capcom          2016    Strategy         Yes   \n",
            "105                 Valve          2015     Shooter         Yes   \n",
            "114  Take-Two Interactive          2019  Simulation         Yes   \n",
            "116                 Valve          2017    Fighting          No   \n",
            "\n",
            "     Game Length (Hours) Graphics Quality Soundtrack Quality Story Quality  \\\n",
            "0                   55.3           Medium            Average          Poor   \n",
            "1                   34.6              Low               Poor          Poor   \n",
            "2                   13.9              Low               Good       Average   \n",
            "3                   41.9           Medium               Good     Excellent   \n",
            "4                   13.2             High               Poor          Good   \n",
            "6                   36.9             High          Excellent          Good   \n",
            "7                   52.1            Ultra               Poor          Poor   \n",
            "9                   46.0              Low               Good       Average   \n",
            "10                  57.0           Medium          Excellent          Good   \n",
            "11                  29.2           Medium            Average       Average   \n",
            "13                  55.6              Low               Poor          Poor   \n",
            "15                   7.0              Low               Poor          Poor   \n",
            "16                  55.5            Ultra               Poor     Excellent   \n",
            "17                  23.9              Low               Good       Average   \n",
            "19                  41.9           Medium          Excellent     Excellent   \n",
            "21                  31.5            Ultra               Poor       Average   \n",
            "22                  55.6           Medium          Excellent     Excellent   \n",
            "23                  21.7           Medium            Average       Average   \n",
            "24                  49.4              Low               Good       Average   \n",
            "25                  15.7             High               Poor       Average   \n",
            "26                  49.5             High          Excellent     Excellent   \n",
            "27                  54.9           Medium               Good       Average   \n",
            "29                  16.1            Ultra            Average     Excellent   \n",
            "32                  53.0             High            Average          Good   \n",
            "33                  12.8              Low               Good       Average   \n",
            "39                  24.0             High               Good       Average   \n",
            "41                  30.8             High               Poor          Poor   \n",
            "46                  38.6             High            Average          Good   \n",
            "53                  44.5           Medium               Good       Average   \n",
            "56                  21.8           Medium            Average          Good   \n",
            "57                  28.6              Low            Average       Average   \n",
            "59                  32.8            Ultra               Good       Average   \n",
            "65                  46.5              Low               Poor          Poor   \n",
            "76                  50.9           Medium               Good          Poor   \n",
            "81                  28.5            Ultra               Poor          Poor   \n",
            "86                  28.6              Low          Excellent          Poor   \n",
            "88                  55.9              Low          Excellent          Good   \n",
            "105                  9.7              Low          Excellent          Good   \n",
            "114                 28.9             High               Poor          Good   \n",
            "116                 38.0            Ultra          Excellent       Average   \n",
            "\n",
            "                                      User Review Text Game Mode  \\\n",
            "0                       Solid game, but too many bugs.   Offline   \n",
            "1                       Solid game, but too many bugs.   Offline   \n",
            "2        Great game, but the graphics could be better.   Offline   \n",
            "3        Solid game, but the graphics could be better.    Online   \n",
            "4                       Great game, but too many bugs.   Offline   \n",
            "6             Solid game, but the gameplay is amazing.    Online   \n",
            "7     Disappointing game, but the gameplay is amazing.   Offline   \n",
            "9        Solid game, but the graphics could be better.   Offline   \n",
            "10          Amazing game, but the gameplay is amazing.   Offline   \n",
            "11                      Solid game, but too many bugs.   Offline   \n",
            "13                      Great game, but too many bugs.   Offline   \n",
            "15            Solid game, but the gameplay is amazing.   Offline   \n",
            "16    Disappointing game, but the gameplay is amazing.   Offline   \n",
            "17   Disappointing game, but the graphics could be ...    Online   \n",
            "19            Solid game, but the gameplay is amazing.    Online   \n",
            "21    Disappointing game, but the gameplay is amazing.   Offline   \n",
            "22                    Amazing game, but too many bugs.   Offline   \n",
            "23            Solid game, but the gameplay is amazing.    Online   \n",
            "24                      Solid game, but too many bugs.   Offline   \n",
            "25            Solid game, but the gameplay is amazing.   Offline   \n",
            "26       Great game, but the graphics could be better.    Online   \n",
            "27     Amazing game, but the graphics could be better.   Offline   \n",
            "29              Disappointing game, but too many bugs.    Online   \n",
            "32       Great game, but the graphics could be better.    Online   \n",
            "33                    Amazing game, but too many bugs.    Online   \n",
            "39            Solid game, but the gameplay is amazing.   Offline   \n",
            "41       Great game, but the graphics could be better.   Offline   \n",
            "46            Solid game, but the gameplay is amazing.    Online   \n",
            "53                      Great game, but too many bugs.   Offline   \n",
            "56                    Amazing game, but too many bugs.    Online   \n",
            "57            Solid game, but the gameplay is amazing.   Offline   \n",
            "59                    Amazing game, but too many bugs.   Offline   \n",
            "65    Disappointing game, but the gameplay is amazing.    Online   \n",
            "76    Disappointing game, but the gameplay is amazing.   Offline   \n",
            "81                    Amazing game, but too many bugs.   Offline   \n",
            "86       Great game, but the graphics could be better.    Online   \n",
            "88            Great game, but the gameplay is amazing.   Offline   \n",
            "105           Great game, but the gameplay is amazing.    Online   \n",
            "114                     Great game, but too many bugs.    Online   \n",
            "116                     Solid game, but too many bugs.    Online   \n",
            "\n",
            "     Min Number of Players  \n",
            "0                        1  \n",
            "1                        3  \n",
            "2                        5  \n",
            "3                        4  \n",
            "4                        1  \n",
            "6                        3  \n",
            "7                        3  \n",
            "9                        5  \n",
            "10                       1  \n",
            "11                       5  \n",
            "13                       5  \n",
            "15                       2  \n",
            "16                       6  \n",
            "17                       3  \n",
            "19                       1  \n",
            "21                       3  \n",
            "22                       5  \n",
            "23                       3  \n",
            "24                      10  \n",
            "25                       5  \n",
            "26                      10  \n",
            "27                      10  \n",
            "29                       4  \n",
            "32                       2  \n",
            "33                       8  \n",
            "39                       4  \n",
            "41                       6  \n",
            "46                      10  \n",
            "53                       6  \n",
            "56                       6  \n",
            "57                       2  \n",
            "59                       4  \n",
            "65                      10  \n",
            "76                      10  \n",
            "81                       7  \n",
            "86                       6  \n",
            "88                       5  \n",
            "105                     10  \n",
            "114                      2  \n",
            "116                      7  \n"
          ]
        }
      ]
    },
    {
      "cell_type": "code",
      "source": [
        "df = pd.read_csv(url)\n",
        "\n",
        "# Remove duplicate rows, keeping the first occurrence\n",
        "df_cleaned = df.drop_duplicates(subset=['Game Title'], keep='first')\n",
        "df_cleaned.columns"
      ],
      "metadata": {
        "colab": {
          "base_uri": "https://localhost:8080/"
        },
        "id": "Kh0NQaKLykNW",
        "outputId": "3537b05b-28c7-48be-cb69-d521434d4e59"
      },
      "execution_count": null,
      "outputs": [
        {
          "output_type": "execute_result",
          "data": {
            "text/plain": [
              "Index(['Game Title', 'User Rating', 'Age Group Targeted', 'Price', 'Platform',\n",
              "       'Requires Special Device', 'Developer', 'Publisher', 'Release Year',\n",
              "       'Genre', 'Multiplayer', 'Game Length (Hours)', 'Graphics Quality',\n",
              "       'Soundtrack Quality', 'Story Quality', 'User Review Text', 'Game Mode',\n",
              "       'Min Number of Players'],\n",
              "      dtype='object')"
            ]
          },
          "metadata": {},
          "execution_count": 21
        }
      ]
    },
    {
      "cell_type": "code",
      "source": [
        "import pandas as pd\n",
        "import numpy as np\n",
        "\n",
        "# Tarkistetaan onko datasetissa puuttuvia arvoja\n",
        "df = pd.read_csv(url)\n",
        "\n",
        "# Laskee puuttuvien arvojen määrän jokaisessa sarakkeessa\n",
        "puuttuvat_arvot = df.isnull().sum()\n",
        "print(puuttuvat_arvot)\n"
      ],
      "metadata": {
        "id": "OrjCkVjszLln",
        "colab": {
          "base_uri": "https://localhost:8080/"
        },
        "outputId": "91de0d4d-ae15-4019-f42a-a36692f953ed"
      },
      "execution_count": null,
      "outputs": [
        {
          "output_type": "stream",
          "name": "stdout",
          "text": [
            "Game Title                 0\n",
            "User Rating                0\n",
            "Age Group Targeted         0\n",
            "Price                      0\n",
            "Platform                   0\n",
            "Requires Special Device    0\n",
            "Developer                  0\n",
            "Publisher                  0\n",
            "Release Year               0\n",
            "Genre                      0\n",
            "Multiplayer                0\n",
            "Game Length (Hours)        0\n",
            "Graphics Quality           0\n",
            "Soundtrack Quality         0\n",
            "Story Quality              0\n",
            "User Review Text           0\n",
            "Game Mode                  0\n",
            "Min Number of Players      0\n",
            "dtype: int64\n"
          ]
        }
      ]
    }
  ]
}